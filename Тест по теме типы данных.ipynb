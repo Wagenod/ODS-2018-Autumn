{
 "cells": [
  {
   "cell_type": "markdown",
   "metadata": {},
   "source": [
    "Задача 1. При изучении базы отзывов о работе тех поддержки вы считали из базы следующие строки:\n",
    "\n",
    "s1 = \"\"\"Время: 10:34 Дата: 20.05.2017 Оценка: 1 Длительность разговора (мин.): 0:32 Комментарий: Общение с сотрудником вашей техподдержки мне не понравилось. Раньше всегда отвечала девушка с приятным голосом, а сегодня какой-то мужчина. Совсем никуда не годится, примите меры!!! \"\"\"\n",
    "\n",
    "s2 = \"\"\"Время: 9:20 Дата: 21.05.2017 Оценка: 5 Длительность разговора (мин.): 25:07 Комментарий: С моей проблемой мне помогли, большое спасибо! \"\"\"\n",
    "\n",
    "Попробуйте сделать то, что вам может потребоваться при обработке отзывов:\n",
    "\n",
    "Разбить на строки\n",
    "Соединить строки через другие разделители (например, запятые)\n",
    "Получить значение поля \"время\"\n",
    "Получить пары \"название поля - значение\""
   ]
  },
  {
   "cell_type": "code",
   "execution_count": null,
   "metadata": {},
   "outputs": [],
   "source": [
    "s1 ="
   ]
  },
  {
   "cell_type": "code",
   "execution_count": 2,
   "metadata": {},
   "outputs": [
    {
     "ename": "SyntaxError",
     "evalue": "invalid syntax (<ipython-input-2-0554e965584d>, line 1)",
     "output_type": "error",
     "traceback": [
      "\u001b[1;36m  File \u001b[1;32m\"<ipython-input-2-0554e965584d>\"\u001b[1;36m, line \u001b[1;32m1\u001b[0m\n\u001b[1;33m    s2 =\u001b[0m\n\u001b[1;37m         ^\u001b[0m\n\u001b[1;31mSyntaxError\u001b[0m\u001b[1;31m:\u001b[0m invalid syntax\n"
     ]
    }
   ],
   "source": [
    "s2 = "
   ]
  },
  {
   "cell_type": "code",
   "execution_count": null,
   "metadata": {},
   "outputs": [],
   "source": []
  }
 ],
 "metadata": {
  "kernelspec": {
   "display_name": "Python 3",
   "language": "python",
   "name": "python3"
  },
  "language_info": {
   "codemirror_mode": {
    "name": "ipython",
    "version": 3
   },
   "file_extension": ".py",
   "mimetype": "text/x-python",
   "name": "python",
   "nbconvert_exporter": "python",
   "pygments_lexer": "ipython3",
   "version": "3.6.5"
  }
 },
 "nbformat": 4,
 "nbformat_minor": 2
}
