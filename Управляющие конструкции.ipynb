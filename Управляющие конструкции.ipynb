{
 "cells": [
  {
   "cell_type": "markdown",
   "metadata": {},
   "source": [
    " # <center>Preview to previous lesson"
   ]
  },
  {
   "cell_type": "markdown",
   "metadata": {},
   "source": [
    "<h1 style =\"color:red;\"> Attention 1 </h1>"
   ]
  },
  {
   "cell_type": "markdown",
   "metadata": {},
   "source": [
    "### Ранее рассмотрели"
   ]
  },
  {
   "cell_type": "code",
   "execution_count": null,
   "metadata": {},
   "outputs": [],
   "source": [
    "int(\" 567 \")"
   ]
  },
  {
   "cell_type": "markdown",
   "metadata": {},
   "source": [
    "### Consider the following example"
   ]
  },
  {
   "cell_type": "code",
   "execution_count": 2,
   "metadata": {},
   "outputs": [
    {
     "ename": "ValueError",
     "evalue": "invalid literal for int() with base 10: ' 8.45'",
     "output_type": "error",
     "traceback": [
      "\u001b[1;31m---------------------------------------------------------------------------\u001b[0m",
      "\u001b[1;31mValueError\u001b[0m                                Traceback (most recent call last)",
      "\u001b[1;32m<ipython-input-2-34b008c99da8>\u001b[0m in \u001b[0;36m<module>\u001b[1;34m()\u001b[0m\n\u001b[1;32m----> 1\u001b[1;33m \u001b[0mint\u001b[0m\u001b[1;33m(\u001b[0m\u001b[1;34m\" 8.45\"\u001b[0m\u001b[1;33m)\u001b[0m\u001b[1;33m\u001b[0m\u001b[0m\n\u001b[0m",
      "\u001b[1;31mValueError\u001b[0m: invalid literal for int() with base 10: ' 8.45'"
     ]
    }
   ],
   "source": [
    "int(\" 8.45\")"
   ]
  },
  {
   "cell_type": "code",
   "execution_count": 3,
   "metadata": {},
   "outputs": [
    {
     "data": {
      "text/plain": [
       "8.45"
      ]
     },
     "execution_count": 3,
     "metadata": {},
     "output_type": "execute_result"
    }
   ],
   "source": [
    "float(\"8.45\")"
   ]
  },
  {
   "cell_type": "code",
   "execution_count": 4,
   "metadata": {},
   "outputs": [
    {
     "data": {
      "text/plain": [
       "9.0"
      ]
     },
     "execution_count": 4,
     "metadata": {},
     "output_type": "execute_result"
    }
   ],
   "source": [
    "float(\"9\")"
   ]
  },
  {
   "cell_type": "markdown",
   "metadata": {},
   "source": [
    "<h1 style =\"color:red;\"> Attention 2 </h1>"
   ]
  },
  {
   "cell_type": "code",
   "execution_count": 5,
   "metadata": {},
   "outputs": [
    {
     "name": "stdout",
     "output_type": "stream",
     "text": [
      "My name is Nastysha\n"
     ]
    }
   ],
   "source": [
    "name = \"Nastysha\"\n",
    "text = \"My name is \" + name;\n",
    "print (text)"
   ]
  },
  {
   "cell_type": "code",
   "execution_count": 6,
   "metadata": {},
   "outputs": [
    {
     "ename": "TypeError",
     "evalue": "must be str, not int",
     "output_type": "error",
     "traceback": [
      "\u001b[1;31m---------------------------------------------------------------------------\u001b[0m",
      "\u001b[1;31mTypeError\u001b[0m                                 Traceback (most recent call last)",
      "\u001b[1;32m<ipython-input-6-2d146c9a3f23>\u001b[0m in \u001b[0;36m<module>\u001b[1;34m()\u001b[0m\n\u001b[0;32m      1\u001b[0m \u001b[0mage\u001b[0m \u001b[1;33m=\u001b[0m \u001b[1;36m24\u001b[0m\u001b[1;33m\u001b[0m\u001b[0m\n\u001b[1;32m----> 2\u001b[1;33m \u001b[0mtext\u001b[0m \u001b[1;33m=\u001b[0m \u001b[1;34m\"I am \"\u001b[0m \u001b[1;33m+\u001b[0m \u001b[0mage\u001b[0m \u001b[1;33m+\u001b[0m \u001b[1;34m\" year\"\u001b[0m \u001b[1;31m# будет ошибка\u001b[0m\u001b[1;33m\u001b[0m\u001b[0m\n\u001b[0m",
      "\u001b[1;31mTypeError\u001b[0m: must be str, not int"
     ]
    }
   ],
   "source": [
    "age = 24\n",
    "text = \"I am \" + age + \" year\" # error"
   ]
  },
  {
   "cell_type": "code",
   "execution_count": 8,
   "metadata": {},
   "outputs": [
    {
     "name": "stdout",
     "output_type": "stream",
     "text": [
      "I am 24 year\n"
     ]
    }
   ],
   "source": [
    "text = \"I am \" + str(age) + \" year\" # it is ok\n",
    "print (text)"
   ]
  },
  {
   "cell_type": "markdown",
   "metadata": {},
   "source": [
    "## Управляющие конструкции языка Python\n",
    "- ## циклы\n",
    "    - while\n",
    "    - for\n",
    "    - ...\n",
    "- ## ветвления (условные конструкции)\n",
    "    - if\n",
    "    - switch"
   ]
  },
  {
   "cell_type": "markdown",
   "metadata": {},
   "source": [
    "## <center> Цикл while\n",
    "**Синтаксис:** \n",
    "    \n",
    "    while условие: \n",
    "        оператор_1\n",
    "        оператор_2\n",
    "        ...\n",
    "        оператор_N\n",
    "    "
   ]
  },
  {
   "cell_type": "markdown",
   "metadata": {},
   "source": [
    "Тело цикла будет выполняться до тех пор, пока ИСТИНО *условие*."
   ]
  },
  {
   "cell_type": "markdown",
   "metadata": {},
   "source": [
    "**Пример 1.**  Выводить строку \"Hello, Nastysha your cummulative equals ....\" пока накопленная частота `cummulative` меньше определенного порога `threshold`. На каждой итерации кумулята увеличивается на 15. Изначально накопленная частота равна 0, т.е. переменная `cummulative = 0`"
   ]
  },
  {
   "cell_type": "code",
   "execution_count": 12,
   "metadata": {},
   "outputs": [
    {
     "name": "stdout",
     "output_type": "stream",
     "text": [
      "Hello, Nastysha your cummulative equals 0\n",
      "Hello, Nastysha your cummulative equals 15\n",
      "Hello, Nastysha your cummulative equals 30\n",
      "Hello, Nastysha your cummulative equals 45\n",
      "Hello, Nastysha your cummulative equals 60\n",
      "Hello, Nastysha your cummulative equals 75\n",
      "Hello, Nastysha your cummulative equals 90\n",
      "Hello, Nastysha your cummulative equals 105\n",
      "Hello, Nastysha your cummulative equals 120\n",
      "Hello, Nastysha your cummulative equals 135\n",
      "Hello, Nastysha your cummulative equals 150\n",
      "Hello, Nastysha your cummulative equals 165\n",
      "Hello, Nastysha your cummulative equals 180\n",
      "Hello, Nastysha your cummulative equals 195\n"
     ]
    }
   ],
   "source": [
    "cummulative = 0\n",
    "threshold = 200\n",
    "\n",
    "while cummulative < threshold:\n",
    "    print (\"Hello, Nastysha your cummulative equals \" + str(cummulative))\n",
    "    cummulative = cummulative + 15"
   ]
  },
  {
   "cell_type": "markdown",
   "metadata": {},
   "source": [
    "## <center>Цикл for"
   ]
  },
  {
   "cell_type": "markdown",
   "metadata": {},
   "source": [
    "Цикл `for` - \"синтаксический сахар\"\n",
    "**Синтаксис:** \n",
    "\n",
    "    for псевдоним_элемнта in где_проходим_циклом:\n",
    "        оператор_1\n",
    "        оператор_2\n",
    "        ....\n",
    "        оператор_N"
   ]
  },
  {
   "cell_type": "markdown",
   "metadata": {},
   "source": [
    "**Пример 1.** Необходимо пройтись по списку и вывести его элементы"
   ]
  },
  {
   "cell_type": "code",
   "execution_count": 22,
   "metadata": {},
   "outputs": [
    {
     "name": "stdout",
     "output_type": "stream",
     "text": [
      "2\n",
      "32\n",
      "4dfdf\n",
      "[889, 212, 9]\n"
     ]
    }
   ],
   "source": [
    "a = [2,32,'4dfdf',[889,212,9]]\n",
    "\n",
    "for element in a:\n",
    "    print(element)"
   ]
  },
  {
   "cell_type": "markdown",
   "metadata": {},
   "source": [
    "Удобно пользоваться `range(..)`"
   ]
  },
  {
   "cell_type": "code",
   "execution_count": 24,
   "metadata": {},
   "outputs": [
    {
     "name": "stdout",
     "output_type": "stream",
     "text": [
      "0\n",
      "1\n",
      "2\n",
      "3\n",
      "4\n",
      "5\n",
      "6\n",
      "7\n",
      "8\n",
      "9\n"
     ]
    }
   ],
   "source": [
    "for element in range(10):\n",
    "    print (element)"
   ]
  },
  {
   "cell_type": "markdown",
   "metadata": {},
   "source": [
    "## <center> Условный оператор if"
   ]
  },
  {
   "cell_type": "markdown",
   "metadata": {},
   "source": [
    "** Синтаксис:** \n",
    "\n",
    "    if условие_1:\n",
    "        оператор_1_1\n",
    "        ...\n",
    "        оператор_N_1\n",
    "    elif условие_2\n",
    "        оператор_1_2\n",
    "        ....\n",
    "        оператор_N_2\n",
    "    else\n",
    "        оператор_1_3\n",
    "        ....\n",
    "        оператор_N_3"
   ]
  },
  {
   "cell_type": "code",
   "execution_count": 33,
   "metadata": {},
   "outputs": [
    {
     "name": "stdout",
     "output_type": "stream",
     "text": [
      "I love Nastysha\n"
     ]
    }
   ],
   "source": [
    "x = 12\n",
    "if x > 7 and x < 20: # условия могут объединяться через and и or\n",
    "    print(\"I love Nastysha\")\n",
    "elif x <= 7:\n",
    "    print (\"I love Nastysha in square\")\n",
    "else:\n",
    "    print ('Unknown number')"
   ]
  },
  {
   "cell_type": "markdown",
   "metadata": {},
   "source": [
    "## Циклы и условия могут быть вложены друг в друга\n",
    "Выведем все четные числа от 0 до 50"
   ]
  },
  {
   "cell_type": "code",
   "execution_count": 43,
   "metadata": {},
   "outputs": [
    {
     "name": "stdout",
     "output_type": "stream",
     "text": [
      "0\n",
      "2\n",
      "4\n",
      "6\n",
      "8\n",
      "10\n",
      "12\n",
      "14\n",
      "16\n",
      "18\n",
      "20\n",
      "22\n",
      "24\n",
      "26\n",
      "28\n",
      "30\n",
      "32\n",
      "34\n",
      "36\n",
      "38\n",
      "40\n",
      "42\n",
      "44\n",
      "46\n",
      "48\n",
      "50\n"
     ]
    }
   ],
   "source": [
    "for number in range(51):\n",
    "    if number%2 == 0:\n",
    "        print (number)"
   ]
  },
  {
   "cell_type": "markdown",
   "metadata": {},
   "source": [
    "## Циклы могут прерываться (оператор `break`)\n",
    "Прервем выполнение цикла как только будет значение больше 20"
   ]
  },
  {
   "cell_type": "code",
   "execution_count": 44,
   "metadata": {},
   "outputs": [
    {
     "name": "stdout",
     "output_type": "stream",
     "text": [
      "0\n",
      "1\n",
      "2\n",
      "3\n",
      "4\n",
      "5\n",
      "6\n",
      "7\n",
      "8\n",
      "9\n",
      "10\n",
      "11\n",
      "12\n",
      "13\n",
      "14\n",
      "15\n",
      "16\n",
      "17\n",
      "18\n",
      "19\n",
      "20\n"
     ]
    }
   ],
   "source": [
    "for number in range(100000):\n",
    "    if number > 20:\n",
    "        break;\n",
    "    print (number)"
   ]
  },
  {
   "cell_type": "markdown",
   "metadata": {},
   "source": [
    "## Циклы могут перескакивать на следующую итерацию (оператор `continue`)\n",
    "Будет пропускать выполнение цикла при значении меньшем 20"
   ]
  },
  {
   "cell_type": "code",
   "execution_count": 45,
   "metadata": {},
   "outputs": [
    {
     "name": "stdout",
     "output_type": "stream",
     "text": [
      "0<20\n",
      "1<20\n",
      "2<20\n",
      "3<20\n",
      "4<20\n",
      "5<20\n",
      "6<20\n",
      "7<20\n",
      "8<20\n",
      "9<20\n",
      "10<20\n",
      "11<20\n",
      "12<20\n",
      "13<20\n",
      "14<20\n",
      "15<20\n",
      "16<20\n",
      "17<20\n",
      "18<20\n",
      "19<20\n",
      "20\n",
      "21\n",
      "22\n",
      "23\n",
      "24\n",
      "25\n",
      "26\n",
      "27\n",
      "28\n",
      "29\n",
      "30\n"
     ]
    }
   ],
   "source": [
    "for number in range(31):\n",
    "    if number < 20:\n",
    "        print (str(number) + \"<20\")\n",
    "        continue;\n",
    "    print(number)"
   ]
  },
  {
   "cell_type": "markdown",
   "metadata": {},
   "source": [
    "## Проверка, что элемент есть в списке с помощью `if`"
   ]
  },
  {
   "cell_type": "code",
   "execution_count": 47,
   "metadata": {},
   "outputs": [
    {
     "name": "stdout",
     "output_type": "stream",
     "text": [
      "I here\n"
     ]
    }
   ],
   "source": [
    "names = ['Nastysha','Kotik','Malysh','Pasha']\n",
    "if 'Nastysha' in names:\n",
    "    print('I here')\n",
    "else:\n",
    "    print('I`m not here')"
   ]
  },
  {
   "cell_type": "markdown",
   "metadata": {},
   "source": [
    "`'Nastysha' in names:`"
   ]
  },
  {
   "cell_type": "code",
   "execution_count": null,
   "metadata": {},
   "outputs": [],
   "source": []
  }
 ],
 "metadata": {
  "kernelspec": {
   "display_name": "Python 3",
   "language": "python",
   "name": "python3"
  },
  "language_info": {
   "codemirror_mode": {
    "name": "ipython",
    "version": 3
   },
   "file_extension": ".py",
   "mimetype": "text/x-python",
   "name": "python",
   "nbconvert_exporter": "python",
   "pygments_lexer": "ipython3",
   "version": "3.6.5"
  }
 },
 "nbformat": 4,
 "nbformat_minor": 2
}
